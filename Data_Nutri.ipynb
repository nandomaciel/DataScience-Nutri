{
  "nbformat": 4,
  "nbformat_minor": 0,
  "metadata": {
    "colab": {
      "name": "Data_Nutri.ipynb",
      "version": "0.3.2",
      "provenance": [],
      "collapsed_sections": []
    },
    "kernelspec": {
      "name": "python3",
      "display_name": "Python 3"
    }
  },
  "cells": [
    {
      "metadata": {
        "id": "wSlbTef_m412",
        "colab_type": "text"
      },
      "cell_type": "markdown",
      "source": [
        "# 1.0 Introdução"
      ]
    },
    {
      "metadata": {
        "id": "GkD_D0oSm6AT",
        "colab_type": "code",
        "colab": {
          "resources": {
            "http://localhost:8080/nbextensions/google.colab/files.js": {
              "data": "Ly8gQ29weXJpZ2h0IDIwMTcgR29vZ2xlIExMQwovLwovLyBMaWNlbnNlZCB1bmRlciB0aGUgQXBhY2hlIExpY2Vuc2UsIFZlcnNpb24gMi4wICh0aGUgIkxpY2Vuc2UiKTsKLy8geW91IG1heSBub3QgdXNlIHRoaXMgZmlsZSBleGNlcHQgaW4gY29tcGxpYW5jZSB3aXRoIHRoZSBMaWNlbnNlLgovLyBZb3UgbWF5IG9idGFpbiBhIGNvcHkgb2YgdGhlIExpY2Vuc2UgYXQKLy8KLy8gICAgICBodHRwOi8vd3d3LmFwYWNoZS5vcmcvbGljZW5zZXMvTElDRU5TRS0yLjAKLy8KLy8gVW5sZXNzIHJlcXVpcmVkIGJ5IGFwcGxpY2FibGUgbGF3IG9yIGFncmVlZCB0byBpbiB3cml0aW5nLCBzb2Z0d2FyZQovLyBkaXN0cmlidXRlZCB1bmRlciB0aGUgTGljZW5zZSBpcyBkaXN0cmlidXRlZCBvbiBhbiAiQVMgSVMiIEJBU0lTLAovLyBXSVRIT1VUIFdBUlJBTlRJRVMgT1IgQ09ORElUSU9OUyBPRiBBTlkgS0lORCwgZWl0aGVyIGV4cHJlc3Mgb3IgaW1wbGllZC4KLy8gU2VlIHRoZSBMaWNlbnNlIGZvciB0aGUgc3BlY2lmaWMgbGFuZ3VhZ2UgZ292ZXJuaW5nIHBlcm1pc3Npb25zIGFuZAovLyBsaW1pdGF0aW9ucyB1bmRlciB0aGUgTGljZW5zZS4KCi8qKgogKiBAZmlsZW92ZXJ2aWV3IEhlbHBlcnMgZm9yIGdvb2dsZS5jb2xhYiBQeXRob24gbW9kdWxlLgogKi8KKGZ1bmN0aW9uKHNjb3BlKSB7CmZ1bmN0aW9uIHNwYW4odGV4dCwgc3R5bGVBdHRyaWJ1dGVzID0ge30pIHsKICBjb25zdCBlbGVtZW50ID0gZG9jdW1lbnQuY3JlYXRlRWxlbWVudCgnc3BhbicpOwogIGVsZW1lbnQudGV4dENvbnRlbnQgPSB0ZXh0OwogIGZvciAoY29uc3Qga2V5IG9mIE9iamVjdC5rZXlzKHN0eWxlQXR0cmlidXRlcykpIHsKICAgIGVsZW1lbnQuc3R5bGVba2V5XSA9IHN0eWxlQXR0cmlidXRlc1trZXldOwogIH0KICByZXR1cm4gZWxlbWVudDsKfQoKLy8gTWF4IG51bWJlciBvZiBieXRlcyB3aGljaCB3aWxsIGJlIHVwbG9hZGVkIGF0IGEgdGltZS4KY29uc3QgTUFYX1BBWUxPQURfU0laRSA9IDEwMCAqIDEwMjQ7Ci8vIE1heCBhbW91bnQgb2YgdGltZSB0byBibG9jayB3YWl0aW5nIGZvciB0aGUgdXNlci4KY29uc3QgRklMRV9DSEFOR0VfVElNRU9VVF9NUyA9IDMwICogMTAwMDsKCmZ1bmN0aW9uIF91cGxvYWRGaWxlcyhpbnB1dElkLCBvdXRwdXRJZCkgewogIGNvbnN0IHN0ZXBzID0gdXBsb2FkRmlsZXNTdGVwKGlucHV0SWQsIG91dHB1dElkKTsKICBjb25zdCBvdXRwdXRFbGVtZW50ID0gZG9jdW1lbnQuZ2V0RWxlbWVudEJ5SWQob3V0cHV0SWQpOwogIC8vIENhY2hlIHN0ZXBzIG9uIHRoZSBvdXRwdXRFbGVtZW50IHRvIG1ha2UgaXQgYXZhaWxhYmxlIGZvciB0aGUgbmV4dCBjYWxsCiAgLy8gdG8gdXBsb2FkRmlsZXNDb250aW51ZSBmcm9tIFB5dGhvbi4KICBvdXRwdXRFbGVtZW50LnN0ZXBzID0gc3RlcHM7CgogIHJldHVybiBfdXBsb2FkRmlsZXNDb250aW51ZShvdXRwdXRJZCk7Cn0KCi8vIFRoaXMgaXMgcm91Z2hseSBhbiBhc3luYyBnZW5lcmF0b3IgKG5vdCBzdXBwb3J0ZWQgaW4gdGhlIGJyb3dzZXIgeWV0KSwKLy8gd2hlcmUgdGhlcmUgYXJlIG11bHRpcGxlIGFzeW5jaHJvbm91cyBzdGVwcyBhbmQgdGhlIFB5dGhvbiBzaWRlIGlzIGdvaW5nCi8vIHRvIHBvbGwgZm9yIGNvbXBsZXRpb24gb2YgZWFjaCBzdGVwLgovLyBUaGlzIHVzZXMgYSBQcm9taXNlIHRvIGJsb2NrIHRoZSBweXRob24gc2lkZSBvbiBjb21wbGV0aW9uIG9mIGVhY2ggc3RlcCwKLy8gdGhlbiBwYXNzZXMgdGhlIHJlc3VsdCBvZiB0aGUgcHJldmlvdXMgc3RlcCBhcyB0aGUgaW5wdXQgdG8gdGhlIG5leHQgc3RlcC4KZnVuY3Rpb24gX3VwbG9hZEZpbGVzQ29udGludWUob3V0cHV0SWQpIHsKICBjb25zdCBvdXRwdXRFbGVtZW50ID0gZG9jdW1lbnQuZ2V0RWxlbWVudEJ5SWQob3V0cHV0SWQpOwogIGNvbnN0IHN0ZXBzID0gb3V0cHV0RWxlbWVudC5zdGVwczsKCiAgY29uc3QgbmV4dCA9IHN0ZXBzLm5leHQob3V0cHV0RWxlbWVudC5sYXN0UHJvbWlzZVZhbHVlKTsKICByZXR1cm4gUHJvbWlzZS5yZXNvbHZlKG5leHQudmFsdWUucHJvbWlzZSkudGhlbigodmFsdWUpID0+IHsKICAgIC8vIENhY2hlIHRoZSBsYXN0IHByb21pc2UgdmFsdWUgdG8gbWFrZSBpdCBhdmFpbGFibGUgdG8gdGhlIG5leHQKICAgIC8vIHN0ZXAgb2YgdGhlIGdlbmVyYXRvci4KICAgIG91dHB1dEVsZW1lbnQubGFzdFByb21pc2VWYWx1ZSA9IHZhbHVlOwogICAgcmV0dXJuIG5leHQudmFsdWUucmVzcG9uc2U7CiAgfSk7Cn0KCi8qKgogKiBHZW5lcmF0b3IgZnVuY3Rpb24gd2hpY2ggaXMgY2FsbGVkIGJldHdlZW4gZWFjaCBhc3luYyBzdGVwIG9mIHRoZSB1cGxvYWQKICogcHJvY2Vzcy4KICogQHBhcmFtIHtzdHJpbmd9IGlucHV0SWQgRWxlbWVudCBJRCBvZiB0aGUgaW5wdXQgZmlsZSBwaWNrZXIgZWxlbWVudC4KICogQHBhcmFtIHtzdHJpbmd9IG91dHB1dElkIEVsZW1lbnQgSUQgb2YgdGhlIG91dHB1dCBkaXNwbGF5LgogKiBAcmV0dXJuIHshSXRlcmFibGU8IU9iamVjdD59IEl0ZXJhYmxlIG9mIG5leHQgc3RlcHMuCiAqLwpmdW5jdGlvbiogdXBsb2FkRmlsZXNTdGVwKGlucHV0SWQsIG91dHB1dElkKSB7CiAgY29uc3QgaW5wdXRFbGVtZW50ID0gZG9jdW1lbnQuZ2V0RWxlbWVudEJ5SWQoaW5wdXRJZCk7CiAgaW5wdXRFbGVtZW50LmRpc2FibGVkID0gZmFsc2U7CgogIGNvbnN0IG91dHB1dEVsZW1lbnQgPSBkb2N1bWVudC5nZXRFbGVtZW50QnlJZChvdXRwdXRJZCk7CiAgb3V0cHV0RWxlbWVudC5pbm5lckhUTUwgPSAnJzsKCiAgY29uc3QgcGlja2VkUHJvbWlzZSA9IG5ldyBQcm9taXNlKChyZXNvbHZlKSA9PiB7CiAgICBpbnB1dEVsZW1lbnQuYWRkRXZlbnRMaXN0ZW5lcignY2hhbmdlJywgKGUpID0+IHsKICAgICAgcmVzb2x2ZShlLnRhcmdldC5maWxlcyk7CiAgICB9KTsKICB9KTsKCiAgY29uc3QgY2FuY2VsID0gZG9jdW1lbnQuY3JlYXRlRWxlbWVudCgnYnV0dG9uJyk7CiAgaW5wdXRFbGVtZW50LnBhcmVudEVsZW1lbnQuYXBwZW5kQ2hpbGQoY2FuY2VsKTsKICBjYW5jZWwudGV4dENvbnRlbnQgPSAnQ2FuY2VsIHVwbG9hZCc7CiAgY29uc3QgY2FuY2VsUHJvbWlzZSA9IG5ldyBQcm9taXNlKChyZXNvbHZlKSA9PiB7CiAgICBjYW5jZWwub25jbGljayA9ICgpID0+IHsKICAgICAgcmVzb2x2ZShudWxsKTsKICAgIH07CiAgfSk7CgogIC8vIENhbmNlbCB1cGxvYWQgaWYgdXNlciBoYXNuJ3QgcGlja2VkIGFueXRoaW5nIGluIHRpbWVvdXQuCiAgY29uc3QgdGltZW91dFByb21pc2UgPSBuZXcgUHJvbWlzZSgocmVzb2x2ZSkgPT4gewogICAgc2V0VGltZW91dCgoKSA9PiB7CiAgICAgIHJlc29sdmUobnVsbCk7CiAgICB9LCBGSUxFX0NIQU5HRV9USU1FT1VUX01TKTsKICB9KTsKCiAgLy8gV2FpdCBmb3IgdGhlIHVzZXIgdG8gcGljayB0aGUgZmlsZXMuCiAgY29uc3QgZmlsZXMgPSB5aWVsZCB7CiAgICBwcm9taXNlOiBQcm9taXNlLnJhY2UoW3BpY2tlZFByb21pc2UsIHRpbWVvdXRQcm9taXNlLCBjYW5jZWxQcm9taXNlXSksCiAgICByZXNwb25zZTogewogICAgICBhY3Rpb246ICdzdGFydGluZycsCiAgICB9CiAgfTsKCiAgaWYgKCFmaWxlcykgewogICAgcmV0dXJuIHsKICAgICAgcmVzcG9uc2U6IHsKICAgICAgICBhY3Rpb246ICdjb21wbGV0ZScsCiAgICAgIH0KICAgIH07CiAgfQoKICBjYW5jZWwucmVtb3ZlKCk7CgogIC8vIERpc2FibGUgdGhlIGlucHV0IGVsZW1lbnQgc2luY2UgZnVydGhlciBwaWNrcyBhcmUgbm90IGFsbG93ZWQuCiAgaW5wdXRFbGVtZW50LmRpc2FibGVkID0gdHJ1ZTsKCiAgZm9yIChjb25zdCBmaWxlIG9mIGZpbGVzKSB7CiAgICBjb25zdCBsaSA9IGRvY3VtZW50LmNyZWF0ZUVsZW1lbnQoJ2xpJyk7CiAgICBsaS5hcHBlbmQoc3BhbihmaWxlLm5hbWUsIHtmb250V2VpZ2h0OiAnYm9sZCd9KSk7CiAgICBsaS5hcHBlbmQoc3BhbigKICAgICAgICBgKCR7ZmlsZS50eXBlIHx8ICduL2EnfSkgLSAke2ZpbGUuc2l6ZX0gYnl0ZXMsIGAgKwogICAgICAgIGBsYXN0IG1vZGlmaWVkOiAkewogICAgICAgICAgICBmaWxlLmxhc3RNb2RpZmllZERhdGUgPyBmaWxlLmxhc3RNb2RpZmllZERhdGUudG9Mb2NhbGVEYXRlU3RyaW5nKCkgOgogICAgICAgICAgICAgICAgICAgICAgICAgICAgICAgICAgICAnbi9hJ30gLSBgKSk7CiAgICBjb25zdCBwZXJjZW50ID0gc3BhbignMCUgZG9uZScpOwogICAgbGkuYXBwZW5kQ2hpbGQocGVyY2VudCk7CgogICAgb3V0cHV0RWxlbWVudC5hcHBlbmRDaGlsZChsaSk7CgogICAgY29uc3QgZmlsZURhdGFQcm9taXNlID0gbmV3IFByb21pc2UoKHJlc29sdmUpID0+IHsKICAgICAgY29uc3QgcmVhZGVyID0gbmV3IEZpbGVSZWFkZXIoKTsKICAgICAgcmVhZGVyLm9ubG9hZCA9IChlKSA9PiB7CiAgICAgICAgcmVzb2x2ZShlLnRhcmdldC5yZXN1bHQpOwogICAgICB9OwogICAgICByZWFkZXIucmVhZEFzQXJyYXlCdWZmZXIoZmlsZSk7CiAgICB9KTsKICAgIC8vIFdhaXQgZm9yIHRoZSBkYXRhIHRvIGJlIHJlYWR5LgogICAgbGV0IGZpbGVEYXRhID0geWllbGQgewogICAgICBwcm9taXNlOiBmaWxlRGF0YVByb21pc2UsCiAgICAgIHJlc3BvbnNlOiB7CiAgICAgICAgYWN0aW9uOiAnY29udGludWUnLAogICAgICB9CiAgICB9OwoKICAgIC8vIFVzZSBhIGNodW5rZWQgc2VuZGluZyB0byBhdm9pZCBtZXNzYWdlIHNpemUgbGltaXRzLiBTZWUgYi82MjExNTY2MC4KICAgIGxldCBwb3NpdGlvbiA9IDA7CiAgICB3aGlsZSAocG9zaXRpb24gPCBmaWxlRGF0YS5ieXRlTGVuZ3RoKSB7CiAgICAgIGNvbnN0IGxlbmd0aCA9IE1hdGgubWluKGZpbGVEYXRhLmJ5dGVMZW5ndGggLSBwb3NpdGlvbiwgTUFYX1BBWUxPQURfU0laRSk7CiAgICAgIGNvbnN0IGNodW5rID0gbmV3IFVpbnQ4QXJyYXkoZmlsZURhdGEsIHBvc2l0aW9uLCBsZW5ndGgpOwogICAgICBwb3NpdGlvbiArPSBsZW5ndGg7CgogICAgICBjb25zdCBiYXNlNjQgPSBidG9hKFN0cmluZy5mcm9tQ2hhckNvZGUuYXBwbHkobnVsbCwgY2h1bmspKTsKICAgICAgeWllbGQgewogICAgICAgIHJlc3BvbnNlOiB7CiAgICAgICAgICBhY3Rpb246ICdhcHBlbmQnLAogICAgICAgICAgZmlsZTogZmlsZS5uYW1lLAogICAgICAgICAgZGF0YTogYmFzZTY0LAogICAgICAgIH0sCiAgICAgIH07CiAgICAgIHBlcmNlbnQudGV4dENvbnRlbnQgPQogICAgICAgICAgYCR7TWF0aC5yb3VuZCgocG9zaXRpb24gLyBmaWxlRGF0YS5ieXRlTGVuZ3RoKSAqIDEwMCl9JSBkb25lYDsKICAgIH0KICB9CgogIC8vIEFsbCBkb25lLgogIHlpZWxkIHsKICAgIHJlc3BvbnNlOiB7CiAgICAgIGFjdGlvbjogJ2NvbXBsZXRlJywKICAgIH0KICB9Owp9CgpzY29wZS5nb29nbGUgPSBzY29wZS5nb29nbGUgfHwge307CnNjb3BlLmdvb2dsZS5jb2xhYiA9IHNjb3BlLmdvb2dsZS5jb2xhYiB8fCB7fTsKc2NvcGUuZ29vZ2xlLmNvbGFiLl9maWxlcyA9IHsKICBfdXBsb2FkRmlsZXMsCiAgX3VwbG9hZEZpbGVzQ29udGludWUsCn07Cn0pKHNlbGYpOwo=",
              "ok": true,
              "headers": [
                [
                  "content-type",
                  "application/javascript"
                ]
              ],
              "status": 200,
              "status_text": ""
            }
          },
          "base_uri": "https://localhost:8080/",
          "height": 38
        },
        "outputId": "5c087b7c-b0e5-4279-f6dd-87d21051a10d"
      },
      "cell_type": "code",
      "source": [
        "# Uploading files from your local file system\n",
        "\n",
        "from google.colab import files\n",
        "uploaded = files.upload()\n",
        "\n",
        "for fn in uploaded.keys():\n",
        "  print('User uploaded file \"{name}\" with length {length} bytes'.format(\n",
        "      name=fn, length=len(uploaded[fn])))"
      ],
      "execution_count": 0,
      "outputs": [
        {
          "output_type": "display_data",
          "data": {
            "text/html": [
              "\n",
              "     <input type=\"file\" id=\"files-fa5dafcc-77ce-466b-8a90-f20ca8432b76\" name=\"files[]\" multiple disabled />\n",
              "     <output id=\"result-fa5dafcc-77ce-466b-8a90-f20ca8432b76\">\n",
              "      Upload widget is only available when the cell has been executed in the\n",
              "      current browser session. Please rerun this cell to enable.\n",
              "      </output>\n",
              "      <script src=\"/nbextensions/google.colab/files.js\"></script> "
            ],
            "text/plain": [
              "<IPython.core.display.HTML object>"
            ]
          },
          "metadata": {
            "tags": []
          }
        }
      ]
    },
    {
      "metadata": {
        "id": "XLBaxDVKnnsC",
        "colab_type": "text"
      },
      "cell_type": "markdown",
      "source": [
        "Neste projeto iremos trabalhar com um dataset contendo dados nutricionais de produtos do McDonald's.\n",
        "\n",
        "O upload deste dataset foi feito originalmente no [Kaggle](https://www.kaggle.com/mcdonalds/nutrition-facts). Os items do menu do McDonalds e demais dados foram retirados do site do McDonald's.\n",
        "\n",
        "O dataset fornece uma análise nutricional de cada item do cardápio do McDonald's nos EUA, incluindo café da manhã, hambúrgueres de carne, sanduíches de frango e peixe, batatas fritas, saladas, refrigerantes, café e chá, milkshakes e sobremesas.\n",
        "\n",
        "Abaixo estão algumas das colunas presentes no dataset:\n",
        "\n",
        "\n",
        "\n",
        "- **Category** - Tipo da refeição. Exemplos: Café da manhã, Sobremesas, Frango e Peixe, etc;\n",
        "- **Item** - Nome do produto no cardápio;\n",
        "- **Serving Size** - Tamanho da porção em onça(unidade de medida de massa) e gramas;\n",
        "- **Calories** - Calorias;\n",
        "- **Calories from Fat** - Calorias provenientes de gordura; \n",
        "- **Total Fat** - Gordura total;\n",
        "- **Total Fat (% Daily Value)** -  Percentual diário de gordura total;\n",
        "- **Satured Fat** - Gordura saturada;\n",
        "- **Trans Fat** - Gordura trans;\n",
        "- **Cholesterol** - Colesterol;\n",
        "- **Sodium** - Sódio;\n",
        "- **Carbohydrates** - Carboidratos;\n",
        "- **Dietary Fiber** - Fibra dietética;\n",
        "- **Sugars** - Açúcares;\n",
        "- **Protein** - Proteínas;\n",
        "- **Vitamin A (% Daily Value)** - Percentual diário de vitamina A; \n",
        "- **Vitamin C (% Daily Value)** - Percentual diário de vitamina C;\n",
        "- **Calcium (% Daily Value)** - Percentual diário de cálcio;\n",
        "- **Iron (% Daily Value)** - Percentual diário de ferro;\n",
        "\n",
        "Esse projeto foi elaborado pelos seguintes alunos:\n",
        "\n",
        "- **Eulle Silva** - eulle100@gmail.com\n",
        "- **Erick Silva** - erickoliveira.eos@gmail.com\n",
        "- **Fernando Maciel** - nandormaciel@gmail.com\n",
        "- **Gabriel Igor** - gabriel.igorq@gmail.com\n",
        "- **Luís Andrade** - luisandrade_araujo@hotmail.com\n",
        "\n",
        "Cada membro foi responsável por elaborar pelo menos um dos tópicos presentes no notebook e desenvolver exercícios envolvendo o dataset mencionado anteriormente\n",
        "\n",
        "Tempo previsto para conclusão do notebook: 90 min"
      ]
    },
    {
      "metadata": {
        "id": "n38aCg93YV3G",
        "colab_type": "text"
      },
      "cell_type": "markdown",
      "source": [
        "**Exercício - Nível: Fácil**\n",
        "\n",
        "\n",
        "<img width=\"100\" src=\"https://drive.google.com/uc?export=view&id=1E8tR7B9YYUXsU_rddJAyq0FrM0MSelxZ\">\n",
        "\n",
        "- Importe a biblioteca Pandas.\n",
        "- Leia o arquivo csv **mcdonalds.csv** utilizando o pandas, atribuindo à variável **mc**.\n",
        "    - Se ocorrer um erro de codificação, tente um dos dois tipos mais populares (**Latin-1** e **Windows-1252**) até conseguir ler o arquivo sem erros.\n",
        "- Use os métodos **DataFrame.info()** e **DataFrame.head()** para obter informações e se familiarizar com o dataset.\n"
      ]
    },
    {
      "metadata": {
        "id": "IqcKtFjyn9J6",
        "colab_type": "code",
        "colab": {}
      },
      "cell_type": "code",
      "source": [
        "#Insira aqui sua resposta"
      ],
      "execution_count": 0,
      "outputs": []
    },
    {
      "metadata": {
        "id": "RSB5Icpxcg-T",
        "colab_type": "text"
      },
      "cell_type": "markdown",
      "source": [
        "# 2.0 Simplificando o Dataset"
      ]
    },
    {
      "metadata": {
        "id": "M_3qjmMPckyF",
        "colab_type": "text"
      },
      "cell_type": "markdown",
      "source": [
        "Através das informações obtidas na última seção podemos fazer algumas observações:\n",
        "\n",
        "- O dataset possui 24 colunas;\n",
        "- A grande maioria dos valores contidos no dataset são inteiros;\n",
        "\n",
        "Portanto, como não precisamos nos preocupar em remover linhas com dados em falta, nesta seção temos como objetivo remover determinadas colunas do dataset que não serão do nosso interesse no decorrer do notebook.\n"
      ]
    },
    {
      "metadata": {
        "id": "6FDHuP3UjoD2",
        "colab_type": "text"
      },
      "cell_type": "markdown",
      "source": [
        "**Exercício - Nível: Médio**\n",
        "\n",
        "\n",
        "<img width=\"100\" src=\"https://drive.google.com/uc?export=view&id=1E8tR7B9YYUXsU_rddJAyq0FrM0MSelxZ\">\n",
        "\n",
        "- Cria uma lista contendo as colunas do dataframe original e atribua a variável **cols**. Dica: Lembre-se do método tolist();\n",
        "- Crie uma nova lista de nome **remover** e atribua a ela as seguintes colunas:\n",
        "  - Serving Size\n",
        "  - Dietary Fiber\n",
        "  - Dietary Fiber (%Daily Value)\n",
        "  - Vitamin A (% Daily Value)\n",
        "  - Vitamin C (% Daily Value)\n",
        "  - Calcium (% Daily Value)\n",
        "  - Iron (% Daily Value)\n",
        "  - Calories From Fat\n",
        "  - Total Fat ( % Daily Value)\n",
        "  - Saturated Fat ( % Daily Value)\n",
        "  - Cholesterol (% Daily Valuue)\n",
        "  - Sodium (% Daily Value)\n",
        "  - Carbohydrates(% Daily Value)\n",
        "- Através de uma iteração sobre a lista **remover**, retire as colunas indesejadas da lista **cols**.\n",
        "- Crie um novo dataframe contendo apenas as colunas presentes em **cols**."
      ]
    },
    {
      "metadata": {
        "id": "ej5x8PKCkFXU",
        "colab_type": "code",
        "colab": {}
      },
      "cell_type": "code",
      "source": [
        "#Insira aqui sua resposta"
      ],
      "execution_count": 0,
      "outputs": []
    },
    {
      "metadata": {
        "id": "VhLaRXQKirAP",
        "colab_type": "text"
      },
      "cell_type": "markdown",
      "source": [
        "# 3.0 Renomeando colunas"
      ]
    },
    {
      "metadata": {
        "id": "WRKByLUti5M2",
        "colab_type": "text"
      },
      "cell_type": "markdown",
      "source": [
        "Com os exercícios anteriores conseguimos tornar nosso dataset mais amigável, mas ainda possuem nomes extensos e que dificultam a vida de quem está utilizando-o. Vamos então melhorar esses nomes para fazer melhor uso.\n",
        "\n"
      ]
    },
    {
      "metadata": {
        "id": "Iv93_Mc0jFyP",
        "colab_type": "text"
      },
      "cell_type": "markdown",
      "source": [
        "**Exercício - Nível: Médio**\n",
        "\n",
        "\n",
        "<img width=\"100\" src=\"https://drive.google.com/uc?export=view&id=1E8tR7B9YYUXsU_rddJAyq0FrM0MSelxZ\">\n",
        "\n",
        "- Substitua todos os nomes de colunas que possuam `<Nome Coluna> para <Nome_Coluna>`\n",
        "\n",
        "Observação: Existem diversas formas de resolver este exercício, logo, use a estratégia que achar melhor. Uma sugestão seria pesquisar a respeito da biblioteca **stringcase**.\n",
        "\n"
      ]
    },
    {
      "metadata": {
        "id": "LqgVJPn1jJtj",
        "colab_type": "code",
        "colab": {}
      },
      "cell_type": "code",
      "source": [
        "#Insira aqui sua resposta"
      ],
      "execution_count": 0,
      "outputs": []
    },
    {
      "metadata": {
        "id": "7dIRx42pCAfv",
        "colab_type": "text"
      },
      "cell_type": "markdown",
      "source": [
        "# 4.0 Análise Inicial e Tratamento inicial do Dataset "
      ]
    },
    {
      "metadata": {
        "id": "fGBmvRN2CVfC",
        "colab_type": "text"
      },
      "cell_type": "markdown",
      "source": [
        "Após simplificar os dados, e renomear as colunas. Devemos verificar a qualidade dos dados, uma vez que inconsistências ou casos inválidados (NaN ou None) devem ser tratados. Assim, vamos realizar uma analíse inicial para averiguar a qualidade dos dados, e tornar o dataset útil. \n",
        "\n",
        "Além disso, vamos realizar uma análise inicial a respeito do dataset, analisando o comportamento de algumas categorias.\n",
        "\n",
        "Para auxiliar o desenvolvimento desta seção, vamos relembrar alguns conceitos vistos em sala de aula. Observe a célula abaixo:"
      ]
    },
    {
      "metadata": {
        "id": "6ub8EUXoXqW-",
        "colab_type": "code",
        "colab": {
          "base_uri": "https://localhost:8080/",
          "height": 289
        },
        "outputId": "891cfabc-a6e2-42df-969c-2440fce29f60"
      },
      "cell_type": "code",
      "source": [
        "df.loc[df[\"Category\"] == \"Beef & Pork\", \"Cholesterol\"]"
      ],
      "execution_count": 0,
      "outputs": [
        {
          "output_type": "execute_result",
          "data": {
            "text/plain": [
              "42     85\n",
              "43     95\n",
              "44    105\n",
              "45    105\n",
              "46     85\n",
              "47    160\n",
              "48     30\n",
              "49     45\n",
              "50     90\n",
              "51    115\n",
              "52     75\n",
              "53     90\n",
              "54     80\n",
              "55     80\n",
              "56     70\n",
              "Name: Cholesterol, dtype: int64"
            ]
          },
          "metadata": {
            "tags": []
          },
          "execution_count": 74
        }
      ]
    },
    {
      "metadata": {
        "id": "amGxBSbyX-6D",
        "colab_type": "text"
      },
      "cell_type": "markdown",
      "source": [
        "Executando o exemplo de código acima, pode-se filtrar do dataset apenas as linhas cuja categoria são do tipo **Beef & Pork** e analisar apenas os dados dessas linha referentes a coluna **Cholesterol**. Uma abordagem semelhante a essa pode te auxiliar no segundo exercício desta seção."
      ]
    },
    {
      "metadata": {
        "id": "Np_z2F6xcYCJ",
        "colab_type": "text"
      },
      "cell_type": "markdown",
      "source": [
        "**Exercício - Nível: Fácil**\n",
        "\n",
        "\n",
        "<img width=\"100\" src=\"https://drive.google.com/uc?export=view&id=1E8tR7B9YYUXsU_rddJAyq0FrM0MSelxZ\"> \n",
        "\n",
        "- Verificar a existência de valores nulos;\n",
        "- Caso existam, deve-se removê-los;"
      ]
    },
    {
      "metadata": {
        "id": "UfJ5jQEWd3gB",
        "colab_type": "code",
        "colab": {}
      },
      "cell_type": "code",
      "source": [
        "#Insira aqui sua resposta"
      ],
      "execution_count": 0,
      "outputs": []
    },
    {
      "metadata": {
        "id": "T6pqD9wuDEGV",
        "colab_type": "text"
      },
      "cell_type": "markdown",
      "source": [
        "**Exercício - Nível: Médio**\n",
        "\n",
        "\n",
        "<img width=\"100\" src=\"https://drive.google.com/uc?export=view&id=1E8tR7B9YYUXsU_rddJAyq0FrM0MSelxZ\"> \n",
        "\n",
        "- Obtenha quais as categorias de refeições servidas, de acordo com o Dataset;\n",
        "- Analisar as informações sobre médias, medianas, valores mínimos e máximo de calorias para as duas categorias com maior número de refeições."
      ]
    },
    {
      "metadata": {
        "id": "IGl2weRqQmQN",
        "colab_type": "code",
        "colab": {}
      },
      "cell_type": "code",
      "source": [
        "#Insira aqui sua resposta"
      ],
      "execution_count": 0,
      "outputs": []
    },
    {
      "metadata": {
        "id": "aoHACgv-DHe1",
        "colab_type": "text"
      },
      "cell_type": "markdown",
      "source": [
        "# 5.0   Analisando a quantidade de gordura trans nos alimentos\n",
        " \n",
        "O Mc Donald's oferece uma variedade enorme de comidas, muitas delas são muito nocivas a saúde . Mas quais alimentos da categoria, com maior númedo de opções de escolha, possuem gordura trans em sua composição ? É isso que nós iremos analisar aqui !\n",
        "\n",
        "\n",
        "**Exercício - Nível : Muito Difícil**\n",
        "\n",
        "<img width=\"100\" src=\"https://drive.google.com/uc?export=view&id=1E8tR7B9YYUXsU_rddJAyq0FrM0MSelxZ\">\n",
        "\n",
        "\n",
        "\n",
        "*   Criar um dicionario com a chave sendo a categoria, e o valor sendo o total de opções que essa categoria tem.\n",
        "*   Calcular o valor máximo desse dicionário . Com isso , será possível encontrar a categoria que oferece mais opções .\n",
        "* Por último , você tem que pensar em uma condição que possa filtrar os valores pedidos no enunciado da questão.\n"
      ]
    },
    {
      "metadata": {
        "id": "JfHd2BPiDRr4",
        "colab_type": "code",
        "colab": {}
      },
      "cell_type": "code",
      "source": [
        "#Insira aqui sua resposta"
      ],
      "execution_count": 0,
      "outputs": []
    },
    {
      "metadata": {
        "id": "bJ73WcGmY_Je",
        "colab_type": "text"
      },
      "cell_type": "markdown",
      "source": [
        "# 6.0 - Alimentos de risco\n",
        "\n",
        "**Exercício - Nível : Difícil**\n",
        "\n",
        "<img width=\"100\" src=\"https://drive.google.com/uc?export=view&id=1E8tR7B9YYUXsU_rddJAyq0FrM0MSelxZ\">\n",
        "\n",
        "\n",
        "Sabendo que muitos dos alimentos fornecidos pelo McDonald's tem alto teor de gordura e colesterol  e queremos evitar esse tipo de alimento no nosso dia a dia:\n",
        " * Liste o nome das colunas da tabela\n",
        " * Selecione as colunas que informam a quantidade de gordura total e colesterol\n",
        " * Exiba somente os alimentos que contem gordura total e colesterol entre 0 e 40\n",
        " * Teste com outros valores e observe os alimentos que aparecem com maiores indices de gordura e colesterol\n",
        " \n",
        " A taxa de colesterol recomendada depende do tipo de colesterol, mas aqui vamos utilizar o ideal como sendo 40. Para maiores informações ou para escolher um valor apropriado veja: https://www.tuasaude.com/colesterol/ "
      ]
    },
    {
      "metadata": {
        "id": "oYjezqCDYxxP",
        "colab_type": "code",
        "colab": {}
      },
      "cell_type": "code",
      "source": [
        "#Insira aqui sua resposta"
      ],
      "execution_count": 0,
      "outputs": []
    },
    {
      "metadata": {
        "id": "ss3ZQKfgpsas",
        "colab_type": "text"
      },
      "cell_type": "markdown",
      "source": [
        "**Exercício - Nível : Difícil**\n",
        "\n",
        "<img width=\"100\" src=\"https://drive.google.com/uc?export=view&id=1E8tR7B9YYUXsU_rddJAyq0FrM0MSelxZ\">\n",
        "\n",
        "Com base na questão anterior agora vamos procurar os alimento mais caloricos, gordurosos para isso:\n",
        "* Importe a biblioteca numpy \n",
        "* Por categoria, seleciona as goduras totais, gorduras saturadas, goduras trans e colesterol\n",
        "* Procure em todas as colunas os alimentos quem tem os maiores indices. Dica: **np.max**\n",
        "* Crie um novo data frame e armazene essa nova tabela\n",
        "* Com o data frame criado nomeie as colunas com os seguintes nomes:\n",
        "`'Category','Max_Fat','Max_Trans_Fat','Max_Sat_Fat','Max_Cholestrol'`\n",
        "* Mostre o novo data frame"
      ]
    },
    {
      "metadata": {
        "id": "1y6JWPrEukw1",
        "colab_type": "code",
        "colab": {}
      },
      "cell_type": "code",
      "source": [
        "#Insira aqui sua resposta"
      ],
      "execution_count": 0,
      "outputs": []
    },
    {
      "metadata": {
        "id": "AyLOCI8FxuZw",
        "colab_type": "text"
      },
      "cell_type": "markdown",
      "source": [
        "<img width=\"100\" src=\"https://drive.google.com/uc?export=view&id=1E8tR7B9YYUXsU_rddJAyq0FrM0MSelxZ\">\n",
        "\n",
        "Com o novo data frame vamos procurar o alimento mais gorduroso, para isso:\n",
        "* Faça um merge entre as _categorias_ do novo data frame e o anterior para identificar o item e atualize o data frame\n",
        "* Com o data frame atualizado, crie um novo data frame chamado `fatty_df` que contenha as colunas categoria, item, gorduras totais e colesterol e procure os alimentos que contêm os maiores indices de gorduras totais e colesterol\n",
        "* Mostre o data frame\n",
        "* Identifique o alimento com maior índice de gordura totais e colesterol"
      ]
    },
    {
      "metadata": {
        "id": "LavfTPE1tvuB",
        "colab_type": "code",
        "colab": {}
      },
      "cell_type": "code",
      "source": [
        "#Insira aqui sua resposta"
      ],
      "execution_count": 0,
      "outputs": []
    },
    {
      "metadata": {
        "id": "wvg9x5xg1BtY",
        "colab_type": "text"
      },
      "cell_type": "markdown",
      "source": [
        "# Questionário\n",
        "* Com base nas poucas informações retiradas desse dataset, você voltaria a comer no McDonalts?\n",
        "    * Se sim, pq?"
      ]
    }
  ]
}